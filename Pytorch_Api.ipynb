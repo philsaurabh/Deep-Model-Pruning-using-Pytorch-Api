{
  "nbformat": 4,
  "nbformat_minor": 0,
  "metadata": {
    "colab": {
      "name": "Pytorch Api.ipynb",
      "provenance": [],
      "collapsed_sections": [],
      "authorship_tag": "ABX9TyMN7CWU/ZSAH04n0vug9Uxo"
    },
    "kernelspec": {
      "name": "python3",
      "display_name": "Python 3"
    }
  },
  "cells": [
    {
      "cell_type": "code",
      "metadata": {
        "id": "vsNTQuMIYaBo"
      },
      "source": [
        "import torch\n",
        "from torch import nn\n",
        "import torch.nn.utils.prune as prune\n",
        "import torch.nn.functional as F"
      ],
      "execution_count": null,
      "outputs": []
    },
    {
      "cell_type": "code",
      "metadata": {
        "id": "T7VhMBgiZL0b"
      },
      "source": [
        "import keras\n",
        "import keras.backend as K\n",
        "from keras.models import Model\n",
        "from keras.layers import Input, Dense, Conv2D, Conv3D, DepthwiseConv2D, SeparableConv2D, Conv3DTranspose\n",
        "from keras.layers import Flatten, MaxPool2D, AvgPool2D, GlobalAvgPool2D, UpSampling2D, BatchNormalization\n",
        "from keras.layers import Concatenate, Add, Dropout, ReLU, Lambda, Activation, LeakyReLU, PReLU\n",
        "from keras.datasets import mnist\n",
        "from keras.models import Sequential\n",
        "from keras.layers import Dense, Dropout, Flatten\n",
        "from keras.layers import Conv2D, MaxPooling2D\n",
        "from keras import backend as K\n",
        "from IPython.display import SVG\n",
        "from keras.utils.vis_utils import model_to_dot\n",
        "\n",
        "from time import time\n",
        "import numpy as np"
      ],
      "execution_count": null,
      "outputs": []
    },
    {
      "cell_type": "code",
      "metadata": {
        "id": "uZmSmHmnZY8M"
      },
      "source": [
        "device = torch.device(\"cuda\" if torch.cuda.is_available() else \"cpu\")\n",
        "\n",
        "class LeNet(nn.Module):\n",
        "    def __init__(self):\n",
        "        super(LeNet, self).__init__()\n",
        "        # 1 input image channel, 6 output channels, 3x3 square conv kernel\n",
        "        self.conv1 = nn.Conv2d(1, 6, 3)\n",
        "        self.conv2 = nn.Conv2d(6, 16, 3)\n",
        "        self.fc1 = nn.Linear(16 * 5 * 5, 120)  # 5x5 image dimension\n",
        "        self.fc2 = nn.Linear(120, 84)\n",
        "        self.fc3 = nn.Linear(84, 10)\n",
        "\n",
        "    def forward(self, x):\n",
        "        x = F.max_pool2d(F.relu(self.conv1(x)), (2, 2))\n",
        "        x = F.max_pool2d(F.relu(self.conv2(x)), 2)\n",
        "        x = x.view(-1, int(x.nelement() / x.shape[0]))\n",
        "        x = F.relu(self.fc1(x))\n",
        "        x = F.relu(self.fc2(x))\n",
        "        x = self.fc3(x)\n",
        "        return x\n",
        "\n",
        "model = LeNet().to(device=device)"
      ],
      "execution_count": null,
      "outputs": []
    },
    {
      "cell_type": "code",
      "metadata": {
        "id": "oTMAl-SHZyQl",
        "outputId": "f54f9bfe-841e-4a74-b0a2-1c8d73ccdb00",
        "colab": {
          "base_uri": "https://localhost:8080/",
          "height": 301
        }
      },
      "source": [
        "from prettytable import PrettyTable\n",
        "\n",
        "def count_parameters(model):\n",
        "    table = PrettyTable([\"Modules\", \"Parameters\"])\n",
        "    total_params = 0\n",
        "    for name, parameter in model.named_parameters():\n",
        "        if not parameter.requires_grad: continue\n",
        "        param = parameter.numel()\n",
        "        table.add_row([name, param])\n",
        "        total_params+=param\n",
        "    print(table)\n",
        "    print(f\"Total Trainable Params: {total_params}\")\n",
        "    return total_params\n",
        "    \n",
        "count_parameters(model)"
      ],
      "execution_count": null,
      "outputs": [
        {
          "output_type": "stream",
          "text": [
            "+--------------+------------+\n",
            "|   Modules    | Parameters |\n",
            "+--------------+------------+\n",
            "| conv1.weight |     54     |\n",
            "|  conv1.bias  |     6      |\n",
            "| conv2.weight |    864     |\n",
            "|  conv2.bias  |     16     |\n",
            "|  fc1.weight  |   48000    |\n",
            "|   fc1.bias   |    120     |\n",
            "|  fc2.weight  |   10080    |\n",
            "|   fc2.bias   |     84     |\n",
            "|  fc3.weight  |    840     |\n",
            "|   fc3.bias   |     10     |\n",
            "+--------------+------------+\n",
            "Total Trainable Params: 60074\n"
          ],
          "name": "stdout"
        },
        {
          "output_type": "execute_result",
          "data": {
            "text/plain": [
              "60074"
            ]
          },
          "metadata": {
            "tags": []
          },
          "execution_count": 6
        }
      ]
    },
    {
      "cell_type": "code",
      "metadata": {
        "id": "L_8sYfI-Z11K"
      },
      "source": [
        "PATH = './base_model.pth'\n",
        "torch.save(model.state_dict(), PATH)"
      ],
      "execution_count": null,
      "outputs": []
    },
    {
      "cell_type": "code",
      "metadata": {
        "id": "SoACVd2ZaPpF",
        "outputId": "16a5f2b1-d4c2-4f7e-8cf0-42776d23c3d8",
        "colab": {
          "base_uri": "https://localhost:8080/",
          "height": 568
        }
      },
      "source": [
        "module = model.conv1\n",
        "print(list(module.named_parameters()))"
      ],
      "execution_count": null,
      "outputs": [
        {
          "output_type": "stream",
          "text": [
            "[('weight', Parameter containing:\n",
            "tensor([[[[-0.2289,  0.1756, -0.3209],\n",
            "          [-0.1498, -0.1119,  0.1736],\n",
            "          [ 0.0037,  0.0153, -0.0493]]],\n",
            "\n",
            "\n",
            "        [[[-0.0493,  0.0318, -0.1283],\n",
            "          [ 0.3133,  0.1460,  0.1923],\n",
            "          [-0.3069,  0.0470,  0.1445]]],\n",
            "\n",
            "\n",
            "        [[[ 0.3139, -0.1866, -0.2675],\n",
            "          [ 0.0812, -0.0749,  0.1801],\n",
            "          [-0.2216,  0.0712, -0.1755]]],\n",
            "\n",
            "\n",
            "        [[[-0.0025, -0.3208,  0.2431],\n",
            "          [-0.0657, -0.1588,  0.3007],\n",
            "          [-0.0029, -0.0642, -0.2951]]],\n",
            "\n",
            "\n",
            "        [[[ 0.0536, -0.1346, -0.0144],\n",
            "          [ 0.0269, -0.2241, -0.2860],\n",
            "          [ 0.0715,  0.2916,  0.2052]]],\n",
            "\n",
            "\n",
            "        [[[-0.2662, -0.2328,  0.1503],\n",
            "          [-0.3139, -0.2856, -0.0380],\n",
            "          [ 0.1973,  0.0386,  0.1585]]]], requires_grad=True)), ('bias', Parameter containing:\n",
            "tensor([-0.0885, -0.2712,  0.2385,  0.2115,  0.2645, -0.1051],\n",
            "       requires_grad=True))]\n"
          ],
          "name": "stdout"
        }
      ]
    },
    {
      "cell_type": "code",
      "metadata": {
        "id": "gV8OVGnZaR_F",
        "outputId": "94342321-56d7-43a3-bd32-7c14e83a9f93",
        "colab": {
          "base_uri": "https://localhost:8080/",
          "height": 35
        }
      },
      "source": [
        "print(list(module.named_buffers()))"
      ],
      "execution_count": null,
      "outputs": [
        {
          "output_type": "stream",
          "text": [
            "[]\n"
          ],
          "name": "stdout"
        }
      ]
    },
    {
      "cell_type": "code",
      "metadata": {
        "id": "MqZrW47iaU3E",
        "outputId": "31d695ae-41b1-4ab8-8755-0bbb9d908df6",
        "colab": {
          "base_uri": "https://localhost:8080/",
          "height": 35
        }
      },
      "source": [
        "prune.random_unstructured(module, name=\"weight\", amount=0.3)"
      ],
      "execution_count": null,
      "outputs": [
        {
          "output_type": "execute_result",
          "data": {
            "text/plain": [
              "Conv2d(1, 6, kernel_size=(3, 3), stride=(1, 1))"
            ]
          },
          "metadata": {
            "tags": []
          },
          "execution_count": 10
        }
      ]
    },
    {
      "cell_type": "code",
      "metadata": {
        "id": "srwuxdPhaX-J",
        "outputId": "44786b62-4fc1-4172-d68f-0eb6c4d387fc",
        "colab": {
          "base_uri": "https://localhost:8080/",
          "height": 568
        }
      },
      "source": [
        "print(list(module.named_parameters()))"
      ],
      "execution_count": null,
      "outputs": [
        {
          "output_type": "stream",
          "text": [
            "[('bias', Parameter containing:\n",
            "tensor([-0.0885, -0.2712,  0.2385,  0.2115,  0.2645, -0.1051],\n",
            "       requires_grad=True)), ('weight_orig', Parameter containing:\n",
            "tensor([[[[-0.2289,  0.1756, -0.3209],\n",
            "          [-0.1498, -0.1119,  0.1736],\n",
            "          [ 0.0037,  0.0153, -0.0493]]],\n",
            "\n",
            "\n",
            "        [[[-0.0493,  0.0318, -0.1283],\n",
            "          [ 0.3133,  0.1460,  0.1923],\n",
            "          [-0.3069,  0.0470,  0.1445]]],\n",
            "\n",
            "\n",
            "        [[[ 0.3139, -0.1866, -0.2675],\n",
            "          [ 0.0812, -0.0749,  0.1801],\n",
            "          [-0.2216,  0.0712, -0.1755]]],\n",
            "\n",
            "\n",
            "        [[[-0.0025, -0.3208,  0.2431],\n",
            "          [-0.0657, -0.1588,  0.3007],\n",
            "          [-0.0029, -0.0642, -0.2951]]],\n",
            "\n",
            "\n",
            "        [[[ 0.0536, -0.1346, -0.0144],\n",
            "          [ 0.0269, -0.2241, -0.2860],\n",
            "          [ 0.0715,  0.2916,  0.2052]]],\n",
            "\n",
            "\n",
            "        [[[-0.2662, -0.2328,  0.1503],\n",
            "          [-0.3139, -0.2856, -0.0380],\n",
            "          [ 0.1973,  0.0386,  0.1585]]]], requires_grad=True))]\n"
          ],
          "name": "stdout"
        }
      ]
    },
    {
      "cell_type": "code",
      "metadata": {
        "id": "DTvDWa46abGL",
        "outputId": "6db79377-79b7-4927-b72e-74fcdf379f15",
        "colab": {
          "base_uri": "https://localhost:8080/",
          "height": 515
        }
      },
      "source": [
        "print(list(module.named_buffers()))"
      ],
      "execution_count": null,
      "outputs": [
        {
          "output_type": "stream",
          "text": [
            "[('weight_mask', tensor([[[[0., 1., 1.],\n",
            "          [0., 1., 1.],\n",
            "          [1., 0., 1.]]],\n",
            "\n",
            "\n",
            "        [[[1., 0., 0.],\n",
            "          [1., 0., 1.],\n",
            "          [1., 1., 1.]]],\n",
            "\n",
            "\n",
            "        [[[1., 1., 0.],\n",
            "          [0., 0., 1.],\n",
            "          [1., 0., 1.]]],\n",
            "\n",
            "\n",
            "        [[[1., 0., 1.],\n",
            "          [1., 1., 0.],\n",
            "          [1., 1., 1.]]],\n",
            "\n",
            "\n",
            "        [[[1., 0., 1.],\n",
            "          [0., 1., 1.],\n",
            "          [1., 1., 1.]]],\n",
            "\n",
            "\n",
            "        [[[1., 1., 1.],\n",
            "          [1., 1., 0.],\n",
            "          [0., 1., 1.]]]]))]\n"
          ],
          "name": "stdout"
        }
      ]
    },
    {
      "cell_type": "code",
      "metadata": {
        "id": "h7rl-PkWadcm",
        "outputId": "8ab147f6-cfc8-48f6-a0f5-88c0830df1bc",
        "colab": {
          "base_uri": "https://localhost:8080/",
          "height": 515
        }
      },
      "source": [
        "print(module.weight)\n"
      ],
      "execution_count": null,
      "outputs": [
        {
          "output_type": "stream",
          "text": [
            "tensor([[[[-0.0000,  0.1756, -0.3209],\n",
            "          [-0.0000, -0.1119,  0.1736],\n",
            "          [ 0.0037,  0.0000, -0.0493]]],\n",
            "\n",
            "\n",
            "        [[[-0.0493,  0.0000, -0.0000],\n",
            "          [ 0.3133,  0.0000,  0.1923],\n",
            "          [-0.3069,  0.0470,  0.1445]]],\n",
            "\n",
            "\n",
            "        [[[ 0.3139, -0.1866, -0.0000],\n",
            "          [ 0.0000, -0.0000,  0.1801],\n",
            "          [-0.2216,  0.0000, -0.1755]]],\n",
            "\n",
            "\n",
            "        [[[-0.0025, -0.0000,  0.2431],\n",
            "          [-0.0657, -0.1588,  0.0000],\n",
            "          [-0.0029, -0.0642, -0.2951]]],\n",
            "\n",
            "\n",
            "        [[[ 0.0536, -0.0000, -0.0144],\n",
            "          [ 0.0000, -0.2241, -0.2860],\n",
            "          [ 0.0715,  0.2916,  0.2052]]],\n",
            "\n",
            "\n",
            "        [[[-0.2662, -0.2328,  0.1503],\n",
            "          [-0.3139, -0.2856, -0.0000],\n",
            "          [ 0.0000,  0.0386,  0.1585]]]], grad_fn=<MulBackward0>)\n"
          ],
          "name": "stdout"
        }
      ]
    },
    {
      "cell_type": "code",
      "metadata": {
        "id": "8k4BQDSIahLW",
        "outputId": "f4c82e88-c808-438f-fbc6-c2100b9713ee",
        "colab": {
          "base_uri": "https://localhost:8080/",
          "height": 35
        }
      },
      "source": [
        "print(module._forward_pre_hooks)"
      ],
      "execution_count": null,
      "outputs": [
        {
          "output_type": "stream",
          "text": [
            "OrderedDict([(0, <torch.nn.utils.prune.RandomUnstructured object at 0x7f6b0cdb2a90>)])\n"
          ],
          "name": "stdout"
        }
      ]
    },
    {
      "cell_type": "code",
      "metadata": {
        "id": "98OmA48gajzA",
        "outputId": "f5f7e67d-afb4-4ba9-96fd-e89d06bbac7d",
        "colab": {
          "base_uri": "https://localhost:8080/",
          "height": 35
        }
      },
      "source": [
        "prune.l1_unstructured(module, name=\"bias\", amount=3)"
      ],
      "execution_count": null,
      "outputs": [
        {
          "output_type": "execute_result",
          "data": {
            "text/plain": [
              "Conv2d(1, 6, kernel_size=(3, 3), stride=(1, 1))"
            ]
          },
          "metadata": {
            "tags": []
          },
          "execution_count": 15
        }
      ]
    },
    {
      "cell_type": "code",
      "metadata": {
        "id": "y1WNX8PaamHR",
        "outputId": "9c3aea90-36d1-4414-aacd-ab73c209cb03",
        "colab": {
          "base_uri": "https://localhost:8080/",
          "height": 568
        }
      },
      "source": [
        "print(list(module.named_parameters()))"
      ],
      "execution_count": null,
      "outputs": [
        {
          "output_type": "stream",
          "text": [
            "[('weight_orig', Parameter containing:\n",
            "tensor([[[[-0.2289,  0.1756, -0.3209],\n",
            "          [-0.1498, -0.1119,  0.1736],\n",
            "          [ 0.0037,  0.0153, -0.0493]]],\n",
            "\n",
            "\n",
            "        [[[-0.0493,  0.0318, -0.1283],\n",
            "          [ 0.3133,  0.1460,  0.1923],\n",
            "          [-0.3069,  0.0470,  0.1445]]],\n",
            "\n",
            "\n",
            "        [[[ 0.3139, -0.1866, -0.2675],\n",
            "          [ 0.0812, -0.0749,  0.1801],\n",
            "          [-0.2216,  0.0712, -0.1755]]],\n",
            "\n",
            "\n",
            "        [[[-0.0025, -0.3208,  0.2431],\n",
            "          [-0.0657, -0.1588,  0.3007],\n",
            "          [-0.0029, -0.0642, -0.2951]]],\n",
            "\n",
            "\n",
            "        [[[ 0.0536, -0.1346, -0.0144],\n",
            "          [ 0.0269, -0.2241, -0.2860],\n",
            "          [ 0.0715,  0.2916,  0.2052]]],\n",
            "\n",
            "\n",
            "        [[[-0.2662, -0.2328,  0.1503],\n",
            "          [-0.3139, -0.2856, -0.0380],\n",
            "          [ 0.1973,  0.0386,  0.1585]]]], requires_grad=True)), ('bias_orig', Parameter containing:\n",
            "tensor([-0.0885, -0.2712,  0.2385,  0.2115,  0.2645, -0.1051],\n",
            "       requires_grad=True))]\n"
          ],
          "name": "stdout"
        }
      ]
    },
    {
      "cell_type": "code",
      "metadata": {
        "id": "WWGYU5xDaoM2",
        "outputId": "b92692fd-497c-4177-ddbf-94b847189385",
        "colab": {
          "base_uri": "https://localhost:8080/",
          "height": 515
        }
      },
      "source": [
        "print(list(module.named_buffers()))"
      ],
      "execution_count": null,
      "outputs": [
        {
          "output_type": "stream",
          "text": [
            "[('weight_mask', tensor([[[[0., 1., 1.],\n",
            "          [0., 1., 1.],\n",
            "          [1., 0., 1.]]],\n",
            "\n",
            "\n",
            "        [[[1., 0., 0.],\n",
            "          [1., 0., 1.],\n",
            "          [1., 1., 1.]]],\n",
            "\n",
            "\n",
            "        [[[1., 1., 0.],\n",
            "          [0., 0., 1.],\n",
            "          [1., 0., 1.]]],\n",
            "\n",
            "\n",
            "        [[[1., 0., 1.],\n",
            "          [1., 1., 0.],\n",
            "          [1., 1., 1.]]],\n",
            "\n",
            "\n",
            "        [[[1., 0., 1.],\n",
            "          [0., 1., 1.],\n",
            "          [1., 1., 1.]]],\n",
            "\n",
            "\n",
            "        [[[1., 1., 1.],\n",
            "          [1., 1., 0.],\n",
            "          [0., 1., 1.]]]])), ('bias_mask', tensor([0., 1., 1., 0., 1., 0.]))]\n"
          ],
          "name": "stdout"
        }
      ]
    },
    {
      "cell_type": "code",
      "metadata": {
        "id": "Piz8NL30aqri",
        "outputId": "b816d24b-c9ed-4791-b97f-f199e6888e5a",
        "colab": {
          "base_uri": "https://localhost:8080/",
          "height": 52
        }
      },
      "source": [
        "print(module.bias)"
      ],
      "execution_count": null,
      "outputs": [
        {
          "output_type": "stream",
          "text": [
            "tensor([-0.0000, -0.2712,  0.2385,  0.0000,  0.2645, -0.0000],\n",
            "       grad_fn=<MulBackward0>)\n"
          ],
          "name": "stdout"
        }
      ]
    },
    {
      "cell_type": "code",
      "metadata": {
        "id": "4pwbngbcatkW",
        "outputId": "8a4117a0-5ef6-4202-a40f-d471ff710fd7",
        "colab": {
          "base_uri": "https://localhost:8080/",
          "height": 35
        }
      },
      "source": [
        "print(module._forward_pre_hooks)"
      ],
      "execution_count": null,
      "outputs": [
        {
          "output_type": "stream",
          "text": [
            "OrderedDict([(0, <torch.nn.utils.prune.RandomUnstructured object at 0x7f6b0cdb2a90>), (1, <torch.nn.utils.prune.L1Unstructured object at 0x7f6b468f4588>)])\n"
          ],
          "name": "stdout"
        }
      ]
    },
    {
      "cell_type": "code",
      "metadata": {
        "id": "n0JPARCDav1H",
        "outputId": "c9646d3b-619a-4508-ffca-1f62a4f7e15b",
        "colab": {
          "base_uri": "https://localhost:8080/",
          "height": 515
        }
      },
      "source": [
        "prune.ln_structured(module, name=\"weight\", amount=0.5, n=2, dim=0)\n",
        "\n",
        "# As we can verify, this will zero out all the connections corresponding to \n",
        "# 50% (3 out of 6) of the channels, while preserving the action of the \n",
        "# previous mask.\n",
        "print(module.weight)"
      ],
      "execution_count": null,
      "outputs": [
        {
          "output_type": "stream",
          "text": [
            "tensor([[[[-0.0000,  0.0000, -0.0000],\n",
            "          [-0.0000, -0.0000,  0.0000],\n",
            "          [ 0.0000,  0.0000, -0.0000]]],\n",
            "\n",
            "\n",
            "        [[[-0.0493,  0.0000, -0.0000],\n",
            "          [ 0.3133,  0.0000,  0.1923],\n",
            "          [-0.3069,  0.0470,  0.1445]]],\n",
            "\n",
            "\n",
            "        [[[ 0.0000, -0.0000, -0.0000],\n",
            "          [ 0.0000, -0.0000,  0.0000],\n",
            "          [-0.0000,  0.0000, -0.0000]]],\n",
            "\n",
            "\n",
            "        [[[-0.0000, -0.0000,  0.0000],\n",
            "          [-0.0000, -0.0000,  0.0000],\n",
            "          [-0.0000, -0.0000, -0.0000]]],\n",
            "\n",
            "\n",
            "        [[[ 0.0536, -0.0000, -0.0144],\n",
            "          [ 0.0000, -0.2241, -0.2860],\n",
            "          [ 0.0715,  0.2916,  0.2052]]],\n",
            "\n",
            "\n",
            "        [[[-0.2662, -0.2328,  0.1503],\n",
            "          [-0.3139, -0.2856, -0.0000],\n",
            "          [ 0.0000,  0.0386,  0.1585]]]], grad_fn=<MulBackward0>)\n"
          ],
          "name": "stdout"
        }
      ]
    },
    {
      "cell_type": "code",
      "metadata": {
        "id": "bQu9iv0Raxw8",
        "outputId": "085e3aa1-ea2c-4e32-d07b-88a1b3f995f9",
        "colab": {
          "base_uri": "https://localhost:8080/",
          "height": 35
        }
      },
      "source": [
        "for hook in module._forward_pre_hooks.values():\n",
        "    if hook._tensor_name == \"weight\":  # select out the correct hook\n",
        "        break\n",
        "\n",
        "print(list(hook))  # pruning history in the container"
      ],
      "execution_count": null,
      "outputs": [
        {
          "output_type": "stream",
          "text": [
            "[<torch.nn.utils.prune.RandomUnstructured object at 0x7f6b0cdb2a90>, <torch.nn.utils.prune.LnStructured object at 0x7f6b0cdb2e48>]\n"
          ],
          "name": "stdout"
        }
      ]
    },
    {
      "cell_type": "code",
      "metadata": {
        "id": "p33lM8eia1D8",
        "outputId": "a8f63541-5f93-4f07-9be3-01b7329f4e1d",
        "colab": {
          "base_uri": "https://localhost:8080/",
          "height": 35
        }
      },
      "source": [
        "print(model.state_dict().keys())"
      ],
      "execution_count": null,
      "outputs": [
        {
          "output_type": "stream",
          "text": [
            "odict_keys(['conv1.weight_orig', 'conv1.bias_orig', 'conv1.weight_mask', 'conv1.bias_mask', 'conv2.weight', 'conv2.bias', 'fc1.weight', 'fc1.bias', 'fc2.weight', 'fc2.bias', 'fc3.weight', 'fc3.bias'])\n"
          ],
          "name": "stdout"
        }
      ]
    },
    {
      "cell_type": "code",
      "metadata": {
        "id": "wdZl8Z5Ua3UZ",
        "outputId": "57e6cef9-c5c4-48a9-f657-9daefa9b348c",
        "colab": {
          "base_uri": "https://localhost:8080/",
          "height": 568
        }
      },
      "source": [
        "print(list(module.named_parameters()))"
      ],
      "execution_count": null,
      "outputs": [
        {
          "output_type": "stream",
          "text": [
            "[('weight_orig', Parameter containing:\n",
            "tensor([[[[-0.2289,  0.1756, -0.3209],\n",
            "          [-0.1498, -0.1119,  0.1736],\n",
            "          [ 0.0037,  0.0153, -0.0493]]],\n",
            "\n",
            "\n",
            "        [[[-0.0493,  0.0318, -0.1283],\n",
            "          [ 0.3133,  0.1460,  0.1923],\n",
            "          [-0.3069,  0.0470,  0.1445]]],\n",
            "\n",
            "\n",
            "        [[[ 0.3139, -0.1866, -0.2675],\n",
            "          [ 0.0812, -0.0749,  0.1801],\n",
            "          [-0.2216,  0.0712, -0.1755]]],\n",
            "\n",
            "\n",
            "        [[[-0.0025, -0.3208,  0.2431],\n",
            "          [-0.0657, -0.1588,  0.3007],\n",
            "          [-0.0029, -0.0642, -0.2951]]],\n",
            "\n",
            "\n",
            "        [[[ 0.0536, -0.1346, -0.0144],\n",
            "          [ 0.0269, -0.2241, -0.2860],\n",
            "          [ 0.0715,  0.2916,  0.2052]]],\n",
            "\n",
            "\n",
            "        [[[-0.2662, -0.2328,  0.1503],\n",
            "          [-0.3139, -0.2856, -0.0380],\n",
            "          [ 0.1973,  0.0386,  0.1585]]]], requires_grad=True)), ('bias_orig', Parameter containing:\n",
            "tensor([-0.0885, -0.2712,  0.2385,  0.2115,  0.2645, -0.1051],\n",
            "       requires_grad=True))]\n"
          ],
          "name": "stdout"
        }
      ]
    },
    {
      "cell_type": "code",
      "metadata": {
        "id": "Vi0yysLxa49Y",
        "outputId": "964e8d36-0559-4362-d77e-e45a3c701b95",
        "colab": {
          "base_uri": "https://localhost:8080/",
          "height": 515
        }
      },
      "source": [
        "print(list(module.named_buffers()))"
      ],
      "execution_count": null,
      "outputs": [
        {
          "output_type": "stream",
          "text": [
            "[('weight_mask', tensor([[[[0., 0., 0.],\n",
            "          [0., 0., 0.],\n",
            "          [0., 0., 0.]]],\n",
            "\n",
            "\n",
            "        [[[1., 0., 0.],\n",
            "          [1., 0., 1.],\n",
            "          [1., 1., 1.]]],\n",
            "\n",
            "\n",
            "        [[[0., 0., 0.],\n",
            "          [0., 0., 0.],\n",
            "          [0., 0., 0.]]],\n",
            "\n",
            "\n",
            "        [[[0., 0., 0.],\n",
            "          [0., 0., 0.],\n",
            "          [0., 0., 0.]]],\n",
            "\n",
            "\n",
            "        [[[1., 0., 1.],\n",
            "          [0., 1., 1.],\n",
            "          [1., 1., 1.]]],\n",
            "\n",
            "\n",
            "        [[[1., 1., 1.],\n",
            "          [1., 1., 0.],\n",
            "          [0., 1., 1.]]]])), ('bias_mask', tensor([0., 1., 1., 0., 1., 0.]))]\n"
          ],
          "name": "stdout"
        }
      ]
    },
    {
      "cell_type": "code",
      "metadata": {
        "id": "JI9CSZIJa7DO",
        "outputId": "8511eee9-82fb-4462-f9f7-53974b0c9154",
        "colab": {
          "base_uri": "https://localhost:8080/",
          "height": 515
        }
      },
      "source": [
        "print(module.weight)"
      ],
      "execution_count": null,
      "outputs": [
        {
          "output_type": "stream",
          "text": [
            "tensor([[[[-0.0000,  0.0000, -0.0000],\n",
            "          [-0.0000, -0.0000,  0.0000],\n",
            "          [ 0.0000,  0.0000, -0.0000]]],\n",
            "\n",
            "\n",
            "        [[[-0.0493,  0.0000, -0.0000],\n",
            "          [ 0.3133,  0.0000,  0.1923],\n",
            "          [-0.3069,  0.0470,  0.1445]]],\n",
            "\n",
            "\n",
            "        [[[ 0.0000, -0.0000, -0.0000],\n",
            "          [ 0.0000, -0.0000,  0.0000],\n",
            "          [-0.0000,  0.0000, -0.0000]]],\n",
            "\n",
            "\n",
            "        [[[-0.0000, -0.0000,  0.0000],\n",
            "          [-0.0000, -0.0000,  0.0000],\n",
            "          [-0.0000, -0.0000, -0.0000]]],\n",
            "\n",
            "\n",
            "        [[[ 0.0536, -0.0000, -0.0144],\n",
            "          [ 0.0000, -0.2241, -0.2860],\n",
            "          [ 0.0715,  0.2916,  0.2052]]],\n",
            "\n",
            "\n",
            "        [[[-0.2662, -0.2328,  0.1503],\n",
            "          [-0.3139, -0.2856, -0.0000],\n",
            "          [ 0.0000,  0.0386,  0.1585]]]], grad_fn=<MulBackward0>)\n"
          ],
          "name": "stdout"
        }
      ]
    },
    {
      "cell_type": "code",
      "metadata": {
        "id": "fBdoTM1xa9WL",
        "outputId": "78b89f46-db82-4b76-fcf4-f72f3ed658c3",
        "colab": {
          "base_uri": "https://localhost:8080/",
          "height": 568
        }
      },
      "source": [
        "prune.remove(module, 'weight')\n",
        "print(list(module.named_parameters()))"
      ],
      "execution_count": null,
      "outputs": [
        {
          "output_type": "stream",
          "text": [
            "[('bias_orig', Parameter containing:\n",
            "tensor([-0.0885, -0.2712,  0.2385,  0.2115,  0.2645, -0.1051],\n",
            "       requires_grad=True)), ('weight', Parameter containing:\n",
            "tensor([[[[-0.0000,  0.0000, -0.0000],\n",
            "          [-0.0000, -0.0000,  0.0000],\n",
            "          [ 0.0000,  0.0000, -0.0000]]],\n",
            "\n",
            "\n",
            "        [[[-0.0493,  0.0000, -0.0000],\n",
            "          [ 0.3133,  0.0000,  0.1923],\n",
            "          [-0.3069,  0.0470,  0.1445]]],\n",
            "\n",
            "\n",
            "        [[[ 0.0000, -0.0000, -0.0000],\n",
            "          [ 0.0000, -0.0000,  0.0000],\n",
            "          [-0.0000,  0.0000, -0.0000]]],\n",
            "\n",
            "\n",
            "        [[[-0.0000, -0.0000,  0.0000],\n",
            "          [-0.0000, -0.0000,  0.0000],\n",
            "          [-0.0000, -0.0000, -0.0000]]],\n",
            "\n",
            "\n",
            "        [[[ 0.0536, -0.0000, -0.0144],\n",
            "          [ 0.0000, -0.2241, -0.2860],\n",
            "          [ 0.0715,  0.2916,  0.2052]]],\n",
            "\n",
            "\n",
            "        [[[-0.2662, -0.2328,  0.1503],\n",
            "          [-0.3139, -0.2856, -0.0000],\n",
            "          [ 0.0000,  0.0386,  0.1585]]]], requires_grad=True))]\n"
          ],
          "name": "stdout"
        }
      ]
    },
    {
      "cell_type": "code",
      "metadata": {
        "id": "N6tN6rgza_HP",
        "outputId": "facec93b-9e65-4433-bf23-deeee6365c73",
        "colab": {
          "base_uri": "https://localhost:8080/",
          "height": 35
        }
      },
      "source": [
        "print(list(module.named_buffers()))"
      ],
      "execution_count": null,
      "outputs": [
        {
          "output_type": "stream",
          "text": [
            "[('bias_mask', tensor([0., 1., 1., 0., 1., 0.]))]\n"
          ],
          "name": "stdout"
        }
      ]
    },
    {
      "cell_type": "code",
      "metadata": {
        "id": "tySQRT76bBYk",
        "outputId": "a243f379-3aeb-4254-b72c-edf8544611c7",
        "colab": {
          "base_uri": "https://localhost:8080/",
          "height": 301
        }
      },
      "source": [
        "from prettytable import PrettyTable\n",
        "\n",
        "def count_parameters(model):\n",
        "    table = PrettyTable([\"Modules\", \"Parameters\"])\n",
        "    total_params = 0\n",
        "    for name, parameter in model.named_parameters():\n",
        "        if not parameter.requires_grad: continue\n",
        "        param = parameter.numel()\n",
        "        table.add_row([name, param])\n",
        "        total_params+=param\n",
        "    print(table)\n",
        "    print(f\"Total Trainable Params: {total_params}\")\n",
        "    return total_params\n",
        "    \n",
        "count_parameters(model)"
      ],
      "execution_count": null,
      "outputs": [
        {
          "output_type": "stream",
          "text": [
            "+-----------------+------------+\n",
            "|     Modules     | Parameters |\n",
            "+-----------------+------------+\n",
            "| conv1.bias_orig |     6      |\n",
            "|   conv1.weight  |     54     |\n",
            "|   conv2.weight  |    864     |\n",
            "|    conv2.bias   |     16     |\n",
            "|    fc1.weight   |   48000    |\n",
            "|     fc1.bias    |    120     |\n",
            "|    fc2.weight   |   10080    |\n",
            "|     fc2.bias    |     84     |\n",
            "|    fc3.weight   |    840     |\n",
            "|     fc3.bias    |     10     |\n",
            "+-----------------+------------+\n",
            "Total Trainable Params: 60074\n"
          ],
          "name": "stdout"
        },
        {
          "output_type": "execute_result",
          "data": {
            "text/plain": [
              "60074"
            ]
          },
          "metadata": {
            "tags": []
          },
          "execution_count": 28
        }
      ]
    },
    {
      "cell_type": "code",
      "metadata": {
        "id": "8mx8SwxvbDHN"
      },
      "source": [
        "PATH = './prune_model.pth'\n",
        "torch.save(model.state_dict(), PATH)"
      ],
      "execution_count": null,
      "outputs": []
    }
  ]
}